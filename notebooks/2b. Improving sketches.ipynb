{
 "cells": [
  {
   "cell_type": "markdown",
   "source": [
    "The generated sketches look nothing like hand drawn sketches, which are high contrast black lines with no shading. They also still include shadows and many have some background colour.\r\n",
    "\r\n",
    "Need to do some work to prepare trhe sketch dataset closer to the target dataset.\r\n",
    "\r\n",
    "U2-NET can remove much of the backgound and shadows.\r\n",
    "\r\n",
    "HED instead of DexiNed may be better for simpler edge detection.\r\n",
    "\r\n",
    "May need to do some bulk hand tuning of images to improve dataset."
   ],
   "metadata": {}
  },
  {
   "cell_type": "code",
   "execution_count": 1,
   "source": [
    "import tensorflow as tf\r\n",
    "tf.__version__"
   ],
   "outputs": [
    {
     "output_type": "execute_result",
     "data": {
      "text/plain": [
       "'2.4.1'"
      ]
     },
     "metadata": {},
     "execution_count": 1
    }
   ],
   "metadata": {}
  }
 ],
 "metadata": {
  "orig_nbformat": 4,
  "language_info": {
   "name": "python",
   "version": "3.8.8",
   "mimetype": "text/x-python",
   "codemirror_mode": {
    "name": "ipython",
    "version": 3
   },
   "pygments_lexer": "ipython3",
   "nbconvert_exporter": "python",
   "file_extension": ".py"
  },
  "kernelspec": {
   "name": "python3",
   "display_name": "Python 3.8.8 64-bit ('sketch2frog': conda)"
  },
  "interpreter": {
   "hash": "cf271db479be4d4c6e21fd422531edba34ffb0b5173e4ffd91deb4fcee9a4d1e"
  }
 },
 "nbformat": 4,
 "nbformat_minor": 2
}