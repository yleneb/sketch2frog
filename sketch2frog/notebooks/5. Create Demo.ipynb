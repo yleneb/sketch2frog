{
 "cells": [
  {
   "cell_type": "markdown",
   "metadata": {},
   "source": [
    "https://blog.tensorflow.org/2018/07/train-model-in-tfkeras-with-colab-and-run-in-browser-tensorflowjs.html"
   ]
  },
  {
   "cell_type": "code",
   "execution_count": 1,
   "metadata": {},
   "outputs": [],
   "source": [
    "from IPython import get_ipython\n",
    "get_ipython().run_line_magic('reload_ext', 'autoreload')\n",
    "get_ipython().run_line_magic('autoreload', '2')\n",
    "get_ipython().run_line_magic('matplotlib', 'inline')"
   ]
  },
  {
   "cell_type": "code",
   "execution_count": 2,
   "metadata": {},
   "outputs": [],
   "source": [
    "import tensorflow as tf\n",
    "from src.config import PATH, DATA_DIR, MODELS_DIR"
   ]
  },
  {
   "cell_type": "code",
   "execution_count": 3,
   "metadata": {},
   "outputs": [],
   "source": [
    "MODEL_PATH = MODELS_DIR / '2021-10-13 1327' / '150E'"
   ]
  },
  {
   "cell_type": "code",
   "execution_count": 4,
   "metadata": {},
   "outputs": [],
   "source": [
    "# we only want the generator\n",
    "model = tf.keras.models.load_model(MODEL_PATH)\n",
    "model = model.generator"
   ]
  },
  {
   "cell_type": "code",
   "execution_count": 5,
   "metadata": {},
   "outputs": [],
   "source": [
    "#After we are satisfied about the accuracy of the model we save it in order to convert it\n",
    "model.save('keras.h5', include_optimizer=False, save_traces=False)"
   ]
  },
  {
   "cell_type": "code",
   "execution_count": 6,
   "metadata": {},
   "outputs": [],
   "source": [
    "# we install the tfjs package for conversion\n",
    "# !pip install tensorflowjs "
   ]
  },
  {
   "cell_type": "code",
   "execution_count": 7,
   "metadata": {},
   "outputs": [
    {
     "name": "stderr",
     "output_type": "stream",
     "text": [
      "2021-10-20 16:35:52.951982: I tensorflow/stream_executor/platform/default/dso_loader.cc:49] Successfully opened dynamic library cudart64_110.dll\n"
     ]
    }
   ],
   "source": [
    "# then we convert the model\n",
    "!mkdir model\n",
    "!tensorflowjs_converter --input_format keras keras.h5 model/\n",
    "# This will create some weight files and the json file which contains the architecture of the model."
   ]
  },
  {
   "cell_type": "code",
   "execution_count": 8,
   "metadata": {},
   "outputs": [
    {
     "name": "stdout",
     "output_type": "stream",
     "text": [
      "  adding: model/ (164 bytes security) (stored 0%)\n",
      "  adding: model/group1-shard10of52.bin (164 bytes security) (deflated 7%)\n",
      "  adding: model/group1-shard11of52.bin (164 bytes security) (deflated 7%)\n",
      "  adding: model/group1-shard12of52.bin (164 bytes security) (deflated 7%)\n",
      "  adding: model/group1-shard13of52.bin (164 bytes security) (deflated 7%)\n",
      "  adding: model/group1-shard14of52.bin (164 bytes security) (deflated 7%)\n",
      "  adding: model/group1-shard15of52.bin (164 bytes security) (deflated 7%)\n",
      "  adding: model/group1-shard16of52.bin (164 bytes security) (deflated 8%)\n",
      "  adding: model/group1-shard17of52.bin (164 bytes security) (deflated 7%)\n",
      "  adding: model/group1-shard18of52.bin (164 bytes security) (deflated 7%)\n",
      "  adding: model/group1-shard19of52.bin (164 bytes security) (deflated 8%)\n",
      "  adding: model/group1-shard1of52.bin (164 bytes security) (deflated 7%)\n",
      "  adding: model/group1-shard20of52.bin (164 bytes security) (deflated 8%)\n",
      "  adding: model/group1-shard21of52.bin (164 bytes security) (deflated 7%)\n",
      "  adding: model/group1-shard22of52.bin (164 bytes security) (deflated 7%)\n",
      "  adding: model/group1-shard23of52.bin (164 bytes security) (deflated 7%)\n",
      "  adding: model/group1-shard24of52.bin (164 bytes security) (deflated 7%)\n",
      "  adding: model/group1-shard25of52.bin (164 bytes security) (deflated 7%)\n",
      "  adding: model/group1-shard26of52.bin (164 bytes security) (deflated 7%)\n",
      "  adding: model/group1-shard27of52.bin (164 bytes security) (deflated 7%)\n",
      "  adding: model/group1-shard28of52.bin (164 bytes security) (deflated 7%)\n",
      "  adding: model/group1-shard29of52.bin (164 bytes security) (deflated 7%)\n",
      "  adding: model/group1-shard2of52.bin (164 bytes security) (deflated 7%)\n",
      "  adding: model/group1-shard30of52.bin (164 bytes security) (deflated 7%)\n",
      "  adding: model/group1-shard31of52.bin (164 bytes security) (deflated 7%)\n",
      "  adding: model/group1-shard32of52.bin (164 bytes security) (deflated 7%)\n",
      "  adding: model/group1-shard33of52.bin (164 bytes security) (deflated 7%)\n",
      "  adding: model/group1-shard34of52.bin (164 bytes security) (deflated 7%)\n",
      "  adding: model/group1-shard35of52.bin (164 bytes security) (deflated 7%)\n",
      "  adding: model/group1-shard36of52.bin (164 bytes security) (deflated 7%)\n",
      "  adding: model/group1-shard37of52.bin (164 bytes security) (deflated 7%)\n",
      "  adding: model/group1-shard38of52.bin (164 bytes security) (deflated 7%)\n",
      "  adding: model/group1-shard39of52.bin (164 bytes security) (deflated 7%)\n",
      "  adding: model/group1-shard3of52.bin (164 bytes security) (deflated 7%)\n",
      "  adding: model/group1-shard40of52.bin (164 bytes security) (deflated 7%)\n",
      "  adding: model/group1-shard41of52.bin (164 bytes security) (deflated 7%)\n",
      "  adding: model/group1-shard42of52.bin (164 bytes security) (deflated 7%)\n",
      "  adding: model/group1-shard43of52.bin (164 bytes security) (deflated 7%)\n",
      "  adding: model/group1-shard44of52.bin (164 bytes security) (deflated 7%)\n",
      "  adding: model/group1-shard45of52.bin (164 bytes security) (deflated 7%)\n",
      "  adding: model/group1-shard46of52.bin (164 bytes security) (deflated 7%)\n",
      "  adding: model/group1-shard47of52.bin (164 bytes security) (deflated 7%)\n",
      "  adding: model/group1-shard48of52.bin (164 bytes security) (deflated 7%)\n",
      "  adding: model/group1-shard49of52.bin (164 bytes security) (deflated 7%)\n",
      "  adding: model/group1-shard4of52.bin (164 bytes security) (deflated 7%)\n",
      "  adding: model/group1-shard50of52.bin (164 bytes security) (deflated 7%)\n",
      "  adding: model/group1-shard51of52.bin (164 bytes security) (deflated 7%)\n",
      "  adding: model/group1-shard52of52.bin (164 bytes security) (deflated 7%)\n",
      "  adding: model/group1-shard5of52.bin (164 bytes security) (deflated 7%)\n",
      "  adding: model/group1-shard6of52.bin (164 bytes security) (deflated 7%)\n",
      "  adding: model/group1-shard7of52.bin (164 bytes security) (deflated 7%)\n",
      "  adding: model/group1-shard8of52.bin (164 bytes security) (deflated 7%)\n",
      "  adding: model/group1-shard9of52.bin (164 bytes security) (deflated 7%)\n",
      "  adding: model/model.json (164 bytes security) (deflated 93%)\n"
     ]
    }
   ],
   "source": [
    "#  zip the model to prepare for downloading it to our local machine\n",
    "!zip -r model.zip model "
   ]
  }
 ],
 "metadata": {
  "interpreter": {
   "hash": "cf271db479be4d4c6e21fd422531edba34ffb0b5173e4ffd91deb4fcee9a4d1e"
  },
  "kernelspec": {
   "display_name": "Python 3.8.8 64-bit ('sketch2frog': conda)",
   "name": "python3"
  },
  "language_info": {
   "codemirror_mode": {
    "name": "ipython",
    "version": 3
   },
   "file_extension": ".py",
   "mimetype": "text/x-python",
   "name": "python",
   "nbconvert_exporter": "python",
   "pygments_lexer": "ipython3",
   "version": "3.8.8"
  },
  "orig_nbformat": 4
 },
 "nbformat": 4,
 "nbformat_minor": 2
}
